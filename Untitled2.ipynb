{
  "nbformat": 4,
  "nbformat_minor": 0,
  "metadata": {
    "colab": {
      "name": "Untitled2.ipynb",
      "provenance": [],
      "collapsed_sections": [],
      "authorship_tag": "ABX9TyMJSqYZYbY6w0WAf4vFQmLD",
      "include_colab_link": true
    },
    "kernelspec": {
      "name": "python3",
      "display_name": "Python 3"
    }
  },
  "cells": [
    {
      "cell_type": "markdown",
      "metadata": {
        "id": "view-in-github",
        "colab_type": "text"
      },
      "source": [
        "<a href=\"https://colab.research.google.com/github/akangkshyap/Train-Image-Classification-Model/blob/master/Untitled2.ipynb\" target=\"_parent\"><img src=\"https://colab.research.google.com/assets/colab-badge.svg\" alt=\"Open In Colab\"/></a>"
      ]
    },
    {
      "cell_type": "code",
      "metadata": {
        "id": "wcYYjK7RN5kt",
        "colab_type": "code",
        "colab": {
          "base_uri": "https://localhost:8080/",
          "height": 399
        },
        "outputId": "cceea206-7fb2-4b07-932f-e627551e1698"
      },
      "source": [
        "# fit a cnn on the fashion mnist dataset \n",
        "from keras.datasets import fashion_mnist \n",
        "from keras.utils import to_categorical \n",
        "from keras.models import Sequential \n",
        "from keras.layers import Conv2D \n",
        "from keras.layers import MaxPooling2D \n",
        "from keras.layers import Dense \n",
        "from keras.layers import Flatten \n",
        "# load dataset \n",
        "(trainX, trainY), (testX, testY) = fashion_mnist.load_data() \n",
        "# reshape dataset to have a single channel \n",
        "trainX = trainX.reshape((trainX.shape[0], 28, 28, 1)) \n",
        "testX = testX.reshape((testX.shape[0], 28, 28, 1)) \n",
        "# convert from integers to floats \n",
        "trainX, testX = trainX.astype('float32'), testX.astype('float32') \n",
        "# normalize to range 0-1 \n",
        "trainX,testX  = trainX / 255.0, testX / 255.0 \n",
        "# one hot encode target values \n",
        "trainY, testY = to_categorical(trainY), to_categorical(testY) \n",
        "# define model \n",
        "model = Sequential() \n",
        "model.add(Conv2D(32, (3, 3), activation='relu', kernel_initializer='he_uniform', \n",
        "input_shape=(28, 28, 1))) \n",
        "model.add(MaxPooling2D()) \n",
        "model.add(Flatten()) \n",
        "model.add(Dense(100, activation='relu', kernel_initializer='he_uniform')) \n",
        "model.add(Dense(10, activation='softmax')) \n",
        "model.compile(optimizer='adam', loss='categorical_crossentropy', metrics=['accuracy']) \n",
        "# fit model \n",
        "model.fit(trainX, trainY, epochs=10, batch_size=32, verbose=2) \n",
        "# evaluate model \n",
        "loss, acc = model.evaluate(testX, testY, verbose=0) \n",
        "print(loss, acc)\n"
      ],
      "execution_count": 10,
      "outputs": [
        {
          "output_type": "stream",
          "text": [
            "Epoch 1/10\n",
            " - 39s - loss: 0.3911 - acc: 0.8607\n",
            "Epoch 2/10\n",
            " - 38s - loss: 0.2604 - acc: 0.9048\n",
            "Epoch 3/10\n",
            " - 38s - loss: 0.2167 - acc: 0.9202\n",
            "Epoch 4/10\n",
            " - 38s - loss: 0.1852 - acc: 0.9313\n",
            "Epoch 5/10\n",
            " - 38s - loss: 0.1581 - acc: 0.9424\n",
            "Epoch 6/10\n",
            " - 38s - loss: 0.1356 - acc: 0.9497\n",
            "Epoch 7/10\n",
            " - 39s - loss: 0.1178 - acc: 0.9560\n",
            "Epoch 8/10\n",
            " - 38s - loss: 0.1032 - acc: 0.9618\n",
            "Epoch 9/10\n",
            " - 38s - loss: 0.0885 - acc: 0.9680\n",
            "Epoch 10/10\n",
            " - 38s - loss: 0.0755 - acc: 0.9732\n",
            "0.3137403541326523 0.914\n"
          ],
          "name": "stdout"
        }
      ]
    },
    {
      "cell_type": "code",
      "metadata": {
        "id": "yZpDwkLtYOO9",
        "colab_type": "code",
        "colab": {}
      },
      "source": [
        ""
      ],
      "execution_count": 0,
      "outputs": []
    }
  ]
}